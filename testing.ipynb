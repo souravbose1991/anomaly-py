{
 "cells": [
  {
   "cell_type": "code",
   "execution_count": 1,
   "metadata": {},
   "outputs": [],
   "source": [
    "import pandas as pd\r\n",
    "import numpy as np\r\n",
    "\r\n",
    "from anomaly_detector import Detector"
   ]
  },
  {
   "cell_type": "code",
   "execution_count": null,
   "metadata": {},
   "outputs": [],
   "source": []
  },
  {
   "cell_type": "code",
   "execution_count": null,
   "metadata": {},
   "outputs": [],
   "source": [
    "feat_list = []\r\n",
    "det_obj = Detector(data=iris, features=feat_list, algo='IForest', impurity=0.05)"
   ]
  },
  {
   "cell_type": "code",
   "execution_count": null,
   "metadata": {},
   "outputs": [],
   "source": [
    "ano_data = det_obj.anomaly_score(return_data=True)"
   ]
  },
  {
   "cell_type": "code",
   "execution_count": null,
   "metadata": {},
   "outputs": [],
   "source": [
    "ano_data2 = det_obj.visualize(threshold=0.5, dimensions=2, return_data=True)"
   ]
  },
  {
   "cell_type": "code",
   "execution_count": null,
   "metadata": {},
   "outputs": [],
   "source": [
    "det_obj.visualize(threshold=0.5, dimensions=3)"
   ]
  },
  {
   "cell_type": "code",
   "execution_count": null,
   "metadata": {},
   "outputs": [],
   "source": [
    "det_obj.top_features(n_features=10)"
   ]
  },
  {
   "cell_type": "code",
   "execution_count": 1,
   "metadata": {},
   "outputs": [],
   "source": [
    "import pandas as pd\r\n",
    "import numpy as np\r\n",
    "\r\n",
    "import plotly.graph_objects as go\r\n",
    "from kneed import KneeLocator\r\n",
    "\r\n",
    "from sklearn import manifold\r\n",
    "from sklearn.ensemble import RandomForestClassifier\r\n",
    "\r\n",
    "# Import all models\r\n",
    "from pyod.models.abod import ABOD\r\n",
    "from pyod.models.cblof import CBLOF\r\n",
    "from pyod.models.hbos import HBOS\r\n",
    "from pyod.models.iforest import IForest\r\n",
    "from pyod.models.knn import KNN\r\n",
    "from pyod.models.lof import LOF\r\n",
    "from pyod.models.mcd import MCD\r\n",
    "from pyod.models.ocsvm import OCSVM\r\n",
    "from pyod.models.pca import PCA\r\n",
    "\r\n",
    "from sklearn.ensemble import IsolationForest\r\n",
    "from sklearn.svm import OneClassSVM\r\n",
    "from sklearn.covariance import EllipticEnvelope\r\n",
    "from sklearn.neighbors import LocalOutlierFactor\r\n"
   ]
  },
  {
   "cell_type": "code",
   "execution_count": 3,
   "metadata": {},
   "outputs": [
    {
     "data": {
      "text/plain": [
       "['__abstractmethods__',\n",
       " '__class__',\n",
       " '__delattr__',\n",
       " '__dict__',\n",
       " '__dir__',\n",
       " '__doc__',\n",
       " '__eq__',\n",
       " '__format__',\n",
       " '__ge__',\n",
       " '__getattribute__',\n",
       " '__gt__',\n",
       " '__hash__',\n",
       " '__init__',\n",
       " '__init_subclass__',\n",
       " '__le__',\n",
       " '__lt__',\n",
       " '__module__',\n",
       " '__ne__',\n",
       " '__new__',\n",
       " '__reduce__',\n",
       " '__reduce_ex__',\n",
       " '__repr__',\n",
       " '__setattr__',\n",
       " '__sizeof__',\n",
       " '__str__',\n",
       " '__subclasshook__',\n",
       " '__weakref__',\n",
       " '_abc_impl',\n",
       " '_get_param_names',\n",
       " '_predict_rank',\n",
       " '_process_decision_scores',\n",
       " '_set_n_classes',\n",
       " 'behaviour',\n",
       " 'bootstrap',\n",
       " 'contamination',\n",
       " 'decision_function',\n",
       " 'estimators_',\n",
       " 'estimators_samples_',\n",
       " 'fit',\n",
       " 'fit_predict',\n",
       " 'fit_predict_score',\n",
       " 'get_params',\n",
       " 'max_features',\n",
       " 'max_samples',\n",
       " 'max_samples_',\n",
       " 'n_estimators',\n",
       " 'n_jobs',\n",
       " 'predict',\n",
       " 'predict_proba',\n",
       " 'random_state',\n",
       " 'set_params',\n",
       " 'verbose']"
      ]
     },
     "execution_count": 3,
     "metadata": {},
     "output_type": "execute_result"
    }
   ],
   "source": [
    "dir(IForest())\r\n"
   ]
  }
 ],
 "metadata": {
  "interpreter": {
   "hash": "fb6702fc277db13d2abd4440043a6d27fe9157f8ad1b6caa6a1f385b0e762573"
  },
  "kernelspec": {
   "display_name": "Python 3.9.5 64-bit ('base': conda)",
   "name": "python3"
  },
  "language_info": {
   "codemirror_mode": {
    "name": "ipython",
    "version": 3
   },
   "file_extension": ".py",
   "mimetype": "text/x-python",
   "name": "python",
   "nbconvert_exporter": "python",
   "pygments_lexer": "ipython3",
   "version": "3.9.5"
  },
  "orig_nbformat": 4
 },
 "nbformat": 4,
 "nbformat_minor": 2
}